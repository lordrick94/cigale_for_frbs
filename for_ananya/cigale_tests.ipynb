{
 "cells": [
  {
   "cell_type": "markdown",
   "metadata": {},
   "source": [
    "# Quick CIGALE Notebook HOW TO\n",
    "\n",
    "### First we import all the necessary things. Make sure you have the FRB repo"
   ]
  },
  {
   "cell_type": "code",
   "execution_count": 22,
   "metadata": {},
   "outputs": [],
   "source": [
    "# importing cigale wrapper\n",
    "from cigale import run"
   ]
  },
  {
   "cell_type": "code",
   "execution_count": 20,
   "metadata": {},
   "outputs": [],
   "source": [
    "from astropy import units as u\n",
    "from astropy.coordinates import SkyCoord\n",
    "from astropy.table import Table\n",
    "import numpy as np\n",
    "import os\n",
    "\n",
    "from frb.galaxies import defs\n",
    "from frb.surveys import survey_utils as su\n",
    "from frb.galaxies.photom import correct_photom_table\n",
    "from frb.galaxies.nebular import get_ebv\n",
    "from frb.surveys.catalog_utils import convert_mags_to_flux"
   ]
  },
  {
   "cell_type": "code",
   "execution_count": 15,
   "metadata": {},
   "outputs": [],
   "source": [
    "# set NEDLVS env variable\n",
    "os.environ['NEDLVS'] = \"/home/lordrick/Projects/fun_side_projects/MODaP_tests/nedlvs_file.fits\" # Replace with your own file path to the nedlvs file"
   ]
  },
  {
   "cell_type": "code",
   "execution_count": 8,
   "metadata": {},
   "outputs": [],
   "source": [
    "# Example usage\n",
    "gal_name = \"J060740.40+433447.57\"\n",
    "gal_z = 0.2411"
   ]
  },
  {
   "cell_type": "code",
   "execution_count": 9,
   "metadata": {},
   "outputs": [],
   "source": [
    "# Get coordinates\n",
    "coord = SkyCoord.from_name(gal_name)"
   ]
  },
  {
   "cell_type": "code",
   "execution_count": 11,
   "metadata": {},
   "outputs": [],
   "source": [
    "def get_public_photometry(gal_name, gal_coord, radius=1*u.arcsec):\n",
    "    \"\"\"\n",
    "    Obtain public photometry for the host galaxy. This currently relies\n",
    "    on the search_all_surveys function in frb.surveys.survey_utils.\n",
    "    \"\"\"\n",
    "    \n",
    "    # Get the photometry from all known surveys\n",
    "    phot_tbl = su.search_all_surveys(gal_coord, radius, include_radio=False)\n",
    "\n",
    "    if len(phot_tbl) > 0:\n",
    "        # sort by separation and assign the closest if multiple\n",
    "        phot_tbl.sort('separation')\n",
    "        phot_tbl['Name'] = 'HGXXXXXXXXX' # placeholder when there are multiple objects\n",
    "        phot_tbl[0]['Name'] = gal_name # assign name to the closest object\n",
    "        ebv = get_ebv(gal_coord)['meanValue']\n",
    "        correct_photom_table(phot_tbl,ebv,name=gal_name)\n",
    "        photom = parse_photom(gal_coord, Table(phot_tbl[0]))\n",
    "    else:\n",
    "        print(\"No public photometry found for the host galaxy.\")\n",
    "    return photom\n",
    "\n",
    "def parse_photom(coord, phot_tbl, max_off=1*u.arcsec, \n",
    "                    overwrite=True, EBV=None):\n",
    "    \"\"\"\n",
    "    Parse photometry from an input table\n",
    "\n",
    "    Fills the photom dict\n",
    "\n",
    "    Also fills fluxes in mJy\n",
    "\n",
    "    Args:\n",
    "        phot_tbl (astropy.table.Table):\n",
    "            ra, dec entires are required\n",
    "        max_off (Angle, optional):\n",
    "        overwrite (bool, optional):\n",
    "        EBV (float, optional):  Galactic reddening.  If included, the photometry\n",
    "            has been corrected for this.  If not, who knows?!  :)\n",
    "\n",
    "    Returns:\n",
    "\n",
    "    \"\"\"\n",
    "    phot_coord = SkyCoord(ra=phot_tbl['ra'], dec=phot_tbl['dec'], unit='deg')\n",
    "    sep = coord.separation(phot_coord)\n",
    "    row = np.argmin(sep)\n",
    "    # Satisfy minimum offset?\n",
    "    if sep[row] > max_off:\n",
    "        print(\"No photometric sources within {} of the galaxy\".format(max_off))\n",
    "        return\n",
    "    # Get a flux table\n",
    "    flux_tbl = convert_mags_to_flux(phot_tbl, fluxunits='mJy')\n",
    "\n",
    "\n",
    "    photom = {}\n",
    "\n",
    "    # Fill fluxes (mJy)\n",
    "    for filter in defs.valid_filters:\n",
    "        # Value\n",
    "        if filter in phot_tbl.keys():\n",
    "            if (filter in photom.keys()) and (not overwrite):\n",
    "                pass\n",
    "            else:\n",
    "                # -999. is used as empty fill value\n",
    "                if phot_tbl[filter][row] < -990:\n",
    "                    pass\n",
    "                else:\n",
    "                    photom[filter] = phot_tbl[filter][row]\n",
    "                    photom[filter+'_flux'] = flux_tbl[filter][row]\n",
    "                    # Try error\n",
    "                    if filter+'_err' in phot_tbl.keys():\n",
    "                        photom[filter+'_err'] = phot_tbl[filter+'_err'][row]\n",
    "                        photom[filter+'_flux_err'] = flux_tbl[filter+'_err'][row]\n",
    "                    # Try reference\n",
    "                    if filter+'_ref' in phot_tbl.keys():\n",
    "                        photom[filter+'_ref'] = phot_tbl[filter+'_ref'][row]\n",
    "\n",
    "\n",
    "                    # Add entries for corresponding flux values.\n",
    "    # EBV\n",
    "    if EBV is not None:\n",
    "        photom['EBV'] = EBV\n",
    "\n",
    "    return photom"
   ]
  },
  {
   "cell_type": "code",
   "execution_count": 16,
   "metadata": {},
   "outputs": [
    {
     "name": "stderr",
     "output_type": "stream",
     "text": [
      "/home/lordrick/Projects/F4_Repos/FRB/frb/surveys/panstarrs.py:165: UserWarning: mastcasjobs not installed. Cannot download photometric redshifts.\n",
      "  warnings.warn(\"mastcasjobs not installed. Cannot download photometric redshifts.\")\n"
     ]
    },
    {
     "name": "stdout",
     "output_type": "stream",
     "text": [
      "Found 1 objects in Pan-STARRS\n",
      "Found 1 objects in WISE\n",
      "Empty table in SDSS\n",
      "Empty table in DES\n",
      "Empty table in DESI\n",
      "Empty table in DELVE\n",
      "Empty table in DECaL\n",
      "Empty table in VISTA\n",
      "Empty table in NSC\n"
     ]
    },
    {
     "name": "stderr",
     "output_type": "stream",
     "text": [
      "/home/lordrick/Projects/F4_Repos/FRB/frb/surveys/survey_utils.py:219: RuntimeWarning: Couldn't connect to HSC. Skipping this for now.\n",
      "  warnings.warn(\"Couldn't connect to {:s}. Skipping this for now.\".format(surveyname), RuntimeWarning)\n"
     ]
    },
    {
     "name": "stdout",
     "output_type": "stream",
     "text": [
      "Empty table in NEDLVS\n",
      "Empty table in 2MASS\n",
      "Empty table in GALEX\n"
     ]
    },
    {
     "name": "stderr",
     "output_type": "stream",
     "text": [
      "/home/lordrick/miniconda3/envs/frb_env/lib/python3.12/site-packages/astropy/table/row.py:71: StringTruncateWarning: truncated right side string(s) longer than 11 character(s) during assignment\n",
      "  self._table.columns[item][self._index] = val\n"
     ]
    },
    {
     "name": "stdout",
     "output_type": "stream",
     "text": [
      "No matches to input name=J060740.40+433447.57.  Returning\n"
     ]
    }
   ],
   "source": [
    "# Get public photometry\n",
    "photom = get_public_photometry(gal_name, coord)"
   ]
  },
  {
   "cell_type": "markdown",
   "metadata": {},
   "source": [
    "### Run CIGALE"
   ]
  },
  {
   "cell_type": "code",
   "execution_count": 23,
   "metadata": {},
   "outputs": [],
   "source": [
    "def run_cigale(photom,gal_z,gal_name, data_file=\"cigale_in.fits\", config_file=\"pcigale.ini\",\n",
    "    wait_for_input=False, save_sed=True, plot=True, outdir='out',**kwargs):\n",
    "    \"\"\"\n",
    "    Generates the input data file for CIGALE\n",
    "    given the photometric points and redshift\n",
    "    of a galaxy\n",
    "\n",
    "    Args:\n",
    "        ID: str, optional\n",
    "            An ID for the galaxy. If none, \"GalaxyA\" is assigned.\n",
    "        data_file (str, optional):\n",
    "            Root name for the photometry data file generated used as input to CIGALE\n",
    "        config_file (str, optional):\n",
    "            Root name for the file where CIGALE's configuration is generated\n",
    "        wait_for_input (bool, optional):\n",
    "            If true, waits for the user to finish editing the auto-generated config file\n",
    "            before running.\n",
    "        save_sed (bool, optional):\n",
    "            Saves the best fit SED if true\n",
    "        plot (bool, optional):\n",
    "            Plots the best fit SED if true\n",
    "        cores (int, optional):\n",
    "            Number of CPU cores to be used. Defaults\n",
    "            to all cores on the system.\n",
    "        outdir (str, optional):\n",
    "            Path to the many outputs of CIGALE\n",
    "            If not supplied, the outputs will appear in a folder named out/\n",
    "\n",
    "    kwargs:  These are passed into gen_cigale_in() and _initialise()\n",
    "        sed_modules (list of 'str', optional):\n",
    "            A list of SED modules to be used in the \n",
    "            PDF analysis. If this is being input, there\n",
    "            should be a corresponding correct dict\n",
    "            for sed_modules_params.\n",
    "        sed_module_params (dict, optional):\n",
    "            A dict containing parameter values for\n",
    "            the input SED modules. Better not use this\n",
    "            unless you know exactly what you're doing.\n",
    "    \"\"\"\n",
    "    \n",
    "\n",
    "    new_photom = Table([photom])\n",
    "    new_photom['redshift'] = gal_z\n",
    "    if gal_name != '':\n",
    "        new_photom['ID'] = gal_name\n",
    "    else:\n",
    "        new_photom['ID'] = 'Galaxy'\n",
    "\n",
    "\n",
    "    run(photometry_table = new_photom,\n",
    "        zcol = 'redshift',\n",
    "        data_file = data_file,\n",
    "        config_file = config_file,\n",
    "        wait_for_input = wait_for_input,\n",
    "        save_sed = save_sed,\n",
    "        plot = plot,\n",
    "        outdir = outdir,\n",
    "        **kwargs)\n",
    "    \n",
    "    return "
   ]
  },
  {
   "cell_type": "code",
   "execution_count": 24,
   "metadata": {},
   "outputs": [
    {
     "data": {
      "text/html": [
       "<pre style=\"white-space:pre;overflow-x:auto;line-height:normal;font-family:Menlo,'DejaVu Sans Mono',consolas,'Courier New',monospace\"><span style=\"font-weight: bold\">[</span><span style=\"color: #87af00; text-decoration-color: #87af00\">INFO</span><span style=\"font-weight: bold\">]</span> Initialising the analysis module.\n",
       "</pre>\n"
      ],
      "text/plain": [
       "\u001b[1m[\u001b[0m\u001b[38;5;106mINFO\u001b[0m\u001b[1m]\u001b[0m Initialising the analysis module.\n"
      ]
     },
     "metadata": {},
     "output_type": "display_data"
    },
    {
     "data": {
      "text/html": [
       "<pre style=\"white-space:pre;overflow-x:auto;line-height:normal;font-family:Menlo,'DejaVu Sans Mono',consolas,'Courier New',monospace\"><span style=\"color: #ffff00; text-decoration-color: #ffff00\">──────────────────────────────────────────────────── </span>Block <span style=\"color: #0000ff; text-decoration-color: #0000ff; font-weight: bold\">1</span>/<span style=\"color: #0000ff; text-decoration-color: #0000ff; font-weight: bold\">1</span><span style=\"color: #ffff00; text-decoration-color: #ffff00\"> ────────────────────────────────────────────────────</span>\n",
       "</pre>\n"
      ],
      "text/plain": [
       "\u001b[93m──────────────────────────────────────────────────── \u001b[0mBlock \u001b[1;94m1\u001b[0m/\u001b[1;94m1\u001b[0m\u001b[93m ────────────────────────────────────────────────────\u001b[0m\n"
      ]
     },
     "metadata": {},
     "output_type": "display_data"
    },
    {
     "data": {
      "text/html": [
       "<pre style=\"white-space:pre;overflow-x:auto;line-height:normal;font-family:Menlo,'DejaVu Sans Mono',consolas,'Courier New',monospace\"><span style=\"font-weight: bold\">[</span><span style=\"color: #87af00; text-decoration-color: #87af00\">INFO</span><span style=\"font-weight: bold\">]</span> Computing models.\n",
       "</pre>\n"
      ],
      "text/plain": [
       "\u001b[1m[\u001b[0m\u001b[38;5;106mINFO\u001b[0m\u001b[1m]\u001b[0m Computing models.\n"
      ]
     },
     "metadata": {},
     "output_type": "display_data"
    },
    {
     "data": {
      "text/html": [
       "<pre style=\"white-space:pre;overflow-x:auto;line-height:normal;font-family:Menlo,'DejaVu Sans Mono',consolas,'Courier New',monospace\"><span style=\"font-weight: bold\">[</span><span style=\"color: #87af00; text-decoration-color: #87af00\">INFO</span><span style=\"font-weight: bold\">]</span> Done.\n",
       "</pre>\n"
      ],
      "text/plain": [
       "\u001b[1m[\u001b[0m\u001b[38;5;106mINFO\u001b[0m\u001b[1m]\u001b[0m Done.\n"
      ]
     },
     "metadata": {},
     "output_type": "display_data"
    },
    {
     "data": {
      "text/html": [
       "<pre style=\"white-space:pre;overflow-x:auto;line-height:normal;font-family:Menlo,'DejaVu Sans Mono',consolas,'Courier New',monospace\"><span style=\"font-weight: bold\">[</span><span style=\"color: #87af00; text-decoration-color: #87af00\">INFO</span><span style=\"font-weight: bold\">]</span> Estimating the physical properties.\n",
       "</pre>\n"
      ],
      "text/plain": [
       "\u001b[1m[\u001b[0m\u001b[38;5;106mINFO\u001b[0m\u001b[1m]\u001b[0m Estimating the physical properties.\n"
      ]
     },
     "metadata": {},
     "output_type": "display_data"
    },
    {
     "data": {
      "text/html": [
       "<pre style=\"white-space:pre;overflow-x:auto;line-height:normal;font-family:Menlo,'DejaVu Sans Mono',consolas,'Courier New',monospace\"><span style=\"font-weight: bold\">[</span><span style=\"color: #87af00; text-decoration-color: #87af00\">INFO</span><span style=\"font-weight: bold\">]</span> Done.\n",
       "</pre>\n"
      ],
      "text/plain": [
       "\u001b[1m[\u001b[0m\u001b[38;5;106mINFO\u001b[0m\u001b[1m]\u001b[0m Done.\n"
      ]
     },
     "metadata": {},
     "output_type": "display_data"
    },
    {
     "data": {
      "text/html": [
       "<pre style=\"white-space:pre;overflow-x:auto;line-height:normal;font-family:Menlo,'DejaVu Sans Mono',consolas,'Courier New',monospace\"><span style=\"font-weight: bold\">[</span><span style=\"color: #87af00; text-decoration-color: #87af00\">INFO</span><span style=\"font-weight: bold\">]</span> Block processed.\n",
       "</pre>\n"
      ],
      "text/plain": [
       "\u001b[1m[\u001b[0m\u001b[38;5;106mINFO\u001b[0m\u001b[1m]\u001b[0m Block processed.\n"
      ]
     },
     "metadata": {},
     "output_type": "display_data"
    },
    {
     "data": {
      "text/html": [
       "<pre style=\"white-space:pre;overflow-x:auto;line-height:normal;font-family:Menlo,'DejaVu Sans Mono',consolas,'Courier New',monospace\"><span style=\"color: #ffff00; text-decoration-color: #ffff00\">───────────────────────────────────────────────── </span>Global analysis<span style=\"color: #ffff00; text-decoration-color: #ffff00\"> ─────────────────────────────────────────────────</span>\n",
       "</pre>\n"
      ],
      "text/plain": [
       "\u001b[93m───────────────────────────────────────────────── \u001b[0mGlobal analysis\u001b[93m ─────────────────────────────────────────────────\u001b[0m\n"
      ]
     },
     "metadata": {},
     "output_type": "display_data"
    },
    {
     "data": {
      "text/html": [
       "<pre style=\"white-space:pre;overflow-x:auto;line-height:normal;font-family:Menlo,'DejaVu Sans Mono',consolas,'Courier New',monospace\"><span style=\"font-weight: bold\">[</span><span style=\"color: #87af00; text-decoration-color: #87af00\">INFO</span><span style=\"font-weight: bold\">]</span> Estimating the physical properties.\n",
       "</pre>\n"
      ],
      "text/plain": [
       "\u001b[1m[\u001b[0m\u001b[38;5;106mINFO\u001b[0m\u001b[1m]\u001b[0m Estimating the physical properties.\n"
      ]
     },
     "metadata": {},
     "output_type": "display_data"
    },
    {
     "data": {
      "text/html": [
       "<pre style=\"white-space:pre;overflow-x:auto;line-height:normal;font-family:Menlo,'DejaVu Sans Mono',consolas,'Courier New',monospace\"><span style=\"font-weight: bold\">[</span><span style=\"color: #87af00; text-decoration-color: #87af00\">INFO</span><span style=\"font-weight: bold\">]</span> Computing the best fit spectra.\n",
       "</pre>\n"
      ],
      "text/plain": [
       "\u001b[1m[\u001b[0m\u001b[38;5;106mINFO\u001b[0m\u001b[1m]\u001b[0m Computing the best fit spectra.\n"
      ]
     },
     "metadata": {},
     "output_type": "display_data"
    },
    {
     "data": {
      "text/html": [
       "<pre style=\"white-space:pre;overflow-x:auto;line-height:normal;font-family:Menlo,'DejaVu Sans Mono',consolas,'Courier New',monospace\"><span style=\"font-weight: bold\">[</span><span style=\"color: #87af00; text-decoration-color: #87af00\">INFO</span><span style=\"font-weight: bold\">]</span> Done.\n",
       "</pre>\n"
      ],
      "text/plain": [
       "\u001b[1m[\u001b[0m\u001b[38;5;106mINFO\u001b[0m\u001b[1m]\u001b[0m Done.\n"
      ]
     },
     "metadata": {},
     "output_type": "display_data"
    },
    {
     "data": {
      "text/html": [
       "<pre style=\"white-space:pre;overflow-x:auto;line-height:normal;font-family:Menlo,'DejaVu Sans Mono',consolas,'Courier New',monospace\"><span style=\"font-weight: bold\">[</span><span style=\"color: #87af00; text-decoration-color: #87af00\">INFO</span><span style=\"font-weight: bold\">]</span> Sanity check of the analysis results.\n",
       "</pre>\n"
      ],
      "text/plain": [
       "\u001b[1m[\u001b[0m\u001b[38;5;106mINFO\u001b[0m\u001b[1m]\u001b[0m Sanity check of the analysis results.\n"
      ]
     },
     "metadata": {},
     "output_type": "display_data"
    },
    {
     "data": {
      "text/html": [
       "<pre style=\"white-space:pre;overflow-x:auto;line-height:normal;font-family:Menlo,'DejaVu Sans Mono',consolas,'Courier New',monospace\"><span style=\"font-weight: bold\">[</span><span style=\"color: #87af00; text-decoration-color: #87af00\">INFO</span><span style=\"font-weight: bold\">]</span> <span style=\"color: #0000ff; text-decoration-color: #0000ff; font-weight: bold\">0.0</span>% of the objects have χ²_red~<span style=\"color: #0000ff; text-decoration-color: #0000ff; font-weight: bold\">0</span> and <span style=\"color: #0000ff; text-decoration-color: #0000ff; font-weight: bold\">0.0</span>% χ²_red&lt;<span style=\"color: #0000ff; text-decoration-color: #0000ff; font-weight: bold\">0.5</span>.\n",
       "</pre>\n"
      ],
      "text/plain": [
       "\u001b[1m[\u001b[0m\u001b[38;5;106mINFO\u001b[0m\u001b[1m]\u001b[0m \u001b[1;94m0.0\u001b[0m% of the objects have χ²_red~\u001b[1;94m0\u001b[0m and \u001b[1;94m0.0\u001b[0m% χ²_red<\u001b[1;94m0.5\u001b[0m.\n"
      ]
     },
     "metadata": {},
     "output_type": "display_data"
    },
    {
     "data": {
      "text/html": [
       "<pre style=\"white-space:pre;overflow-x:auto;line-height:normal;font-family:Menlo,'DejaVu Sans Mono',consolas,'Courier New',monospace\"><span style=\"font-weight: bold\">[</span><span style=\"color: #87af00; text-decoration-color: #87af00\">INFO</span><span style=\"font-weight: bold\">]</span> Saving the analysis results.\n",
       "</pre>\n"
      ],
      "text/plain": [
       "\u001b[1m[\u001b[0m\u001b[38;5;106mINFO\u001b[0m\u001b[1m]\u001b[0m Saving the analysis results.\n"
      ]
     },
     "metadata": {},
     "output_type": "display_data"
    },
    {
     "data": {
      "text/html": [
       "<pre style=\"white-space:pre;overflow-x:auto;line-height:normal;font-family:Menlo,'DejaVu Sans Mono',consolas,'Courier New',monospace\"><span style=\"font-weight: bold\">[</span><span style=\"color: #87af00; text-decoration-color: #87af00\">INFO</span><span style=\"font-weight: bold\">]</span> Run completed! 👍\n",
       "</pre>\n"
      ],
      "text/plain": [
       "\u001b[1m[\u001b[0m\u001b[38;5;106mINFO\u001b[0m\u001b[1m]\u001b[0m Run completed! 👍\n"
      ]
     },
     "metadata": {},
     "output_type": "display_data"
    },
    {
     "data": {
      "text/html": [
       "<pre style=\"white-space:pre;overflow-x:auto;line-height:normal;font-family:Menlo,'DejaVu Sans Mono',consolas,'Courier New',monospace\"><span style=\"font-weight: bold\">[</span><span style=\"color: #87af00; text-decoration-color: #87af00\">INFO</span><span style=\"font-weight: bold\">]</span> Done.\n",
       "</pre>\n"
      ],
      "text/plain": [
       "\u001b[1m[\u001b[0m\u001b[38;5;106mINFO\u001b[0m\u001b[1m]\u001b[0m Done.\n"
      ]
     },
     "metadata": {},
     "output_type": "display_data"
    }
   ],
   "source": [
    "run_cigale(photom,gal_z,gal_name)"
   ]
  },
  {
   "cell_type": "code",
   "execution_count": null,
   "metadata": {},
   "outputs": [],
   "source": []
  },
  {
   "cell_type": "code",
   "execution_count": null,
   "metadata": {},
   "outputs": [],
   "source": []
  },
  {
   "cell_type": "markdown",
   "metadata": {},
   "source": [
    "## Save values to .json file"
   ]
  },
  {
   "cell_type": "code",
   "execution_count": null,
   "metadata": {},
   "outputs": [],
   "source": []
  }
 ],
 "metadata": {
  "kernelspec": {
   "display_name": "frb_env",
   "language": "python",
   "name": "python3"
  },
  "language_info": {
   "codemirror_mode": {
    "name": "ipython",
    "version": 3
   },
   "file_extension": ".py",
   "mimetype": "text/x-python",
   "name": "python",
   "nbconvert_exporter": "python",
   "pygments_lexer": "ipython3",
   "version": "3.12.0"
  }
 },
 "nbformat": 4,
 "nbformat_minor": 2
}
